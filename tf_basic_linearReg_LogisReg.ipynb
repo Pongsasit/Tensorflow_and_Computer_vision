{
 "cells": [
  {
   "cell_type": "code",
   "execution_count": 1,
   "metadata": {},
   "outputs": [],
   "source": [
    "import tensorflow as tf"
   ]
  },
  {
   "cell_type": "code",
   "execution_count": 2,
   "metadata": {},
   "outputs": [],
   "source": [
    "graph1 = tf.Graph()"
   ]
  },
  {
   "cell_type": "code",
   "execution_count": 3,
   "metadata": {},
   "outputs": [],
   "source": [
    "with graph1.as_default():\n",
    "    a = tf.constant([2], name = 'constant_a')\n",
    "    b = tf.constant([3], name = 'constant_b')"
   ]
  },
  {
   "cell_type": "code",
   "execution_count": 4,
   "metadata": {},
   "outputs": [
    {
     "data": {
      "text/plain": [
       "<tf.Tensor 'constant_a:0' shape=(1,) dtype=int32>"
      ]
     },
     "execution_count": 4,
     "metadata": {},
     "output_type": "execute_result"
    }
   ],
   "source": [
    "a"
   ]
  },
  {
   "cell_type": "code",
   "execution_count": 6,
   "metadata": {},
   "outputs": [
    {
     "name": "stdout",
     "output_type": "stream",
     "text": [
      "[2]\n"
     ]
    }
   ],
   "source": [
    "sess = tf.Session(graph = graph1)\n",
    "result = sess.run(a)\n",
    "print(result)\n",
    "sess.close()"
   ]
  },
  {
   "cell_type": "code",
   "execution_count": 7,
   "metadata": {},
   "outputs": [],
   "source": [
    "with graph1.as_default():\n",
    "    c = tf.add(a,b)"
   ]
  },
  {
   "cell_type": "code",
   "execution_count": 9,
   "metadata": {},
   "outputs": [],
   "source": [
    "sess = tf.Session(graph = graph1)"
   ]
  },
  {
   "cell_type": "code",
   "execution_count": 10,
   "metadata": {},
   "outputs": [
    {
     "name": "stdout",
     "output_type": "stream",
     "text": [
      "[5]\n"
     ]
    }
   ],
   "source": [
    "result = sess.run(c)\n",
    "print(result)"
   ]
  },
  {
   "cell_type": "code",
   "execution_count": 12,
   "metadata": {},
   "outputs": [],
   "source": [
    "sess.close()"
   ]
  },
  {
   "cell_type": "code",
   "execution_count": 13,
   "metadata": {},
   "outputs": [
    {
     "name": "stdout",
     "output_type": "stream",
     "text": [
      "[5]\n"
     ]
    }
   ],
   "source": [
    "with tf.Session(graph = graph1) as sess:\n",
    "    result = sess.run(c)\n",
    "    print(result)"
   ]
  },
  {
   "cell_type": "code",
   "execution_count": 16,
   "metadata": {},
   "outputs": [
    {
     "name": "stdout",
     "output_type": "stream",
     "text": [
      "Scalar (1 entry):\n",
      " 2 \n",
      "\n",
      "Vector (3 entries): \n",
      " [5 6 2] \n",
      "\n",
      "Matrix (3x3 entries): \n",
      " [[1 2 3]\n",
      " [4 5 6]\n",
      " [7 8 9]] \n",
      "\n",
      "Tensor (3x3x3 entries): \n",
      " [[[1 2 3]\n",
      "  [4 5 6]\n",
      "  [7 8 9]]\n",
      "\n",
      " [[2 3 4]\n",
      "  [4 5 6]\n",
      "  [6 7 8]]\n",
      "\n",
      " [[3 4 5]\n",
      "  [4 5 6]\n",
      "  [5 6 7]]] \n",
      "\n"
     ]
    }
   ],
   "source": [
    "graph2 = tf.Graph()\n",
    "with graph2.as_default():\n",
    "    Scalar = tf.constant(2)\n",
    "    Vector = tf.constant([5,6,2])\n",
    "    Matrix = tf.constant([[1,2,3],[4,5,6],[7,8,9]])\n",
    "    Tensor = tf.constant([ [[1,2,3],[4,5,6],[7,8,9]],[[2,3,4],[4,5,6],[6,7,8]],[[3,4,5],[4,5,6],[5,6,7]] ])\n",
    "with tf.Session(graph = graph2) as sess:\n",
    "    result = sess.run(Scalar)\n",
    "    print(\"Scalar (1 entry):\\n %s \\n\" %result)\n",
    "    result2 = sess.run(Vector)\n",
    "    print(\"Vector (3 entries): \\n %s \\n\" %result2)\n",
    "    result3 = sess.run(Matrix)\n",
    "    print(\"Matrix (3x3 entries): \\n %s \\n\" %result3)\n",
    "    result4 = sess.run(Tensor)\n",
    "    print(\"Tensor (3x3x3 entries): \\n %s \\n\" %result4)"
   ]
  },
  {
   "cell_type": "code",
   "execution_count": 18,
   "metadata": {},
   "outputs": [
    {
     "data": {
      "text/plain": [
       "TensorShape([])"
      ]
     },
     "execution_count": 18,
     "metadata": {},
     "output_type": "execute_result"
    }
   ],
   "source": [
    "Scalar.shape"
   ]
  },
  {
   "cell_type": "code",
   "execution_count": 19,
   "metadata": {},
   "outputs": [
    {
     "data": {
      "text/plain": [
       "TensorShape([Dimension(3)])"
      ]
     },
     "execution_count": 19,
     "metadata": {},
     "output_type": "execute_result"
    }
   ],
   "source": [
    "Vector.shape"
   ]
  },
  {
   "cell_type": "code",
   "execution_count": 20,
   "metadata": {},
   "outputs": [
    {
     "data": {
      "text/plain": [
       "TensorShape([Dimension(3), Dimension(3)])"
      ]
     },
     "execution_count": 20,
     "metadata": {},
     "output_type": "execute_result"
    }
   ],
   "source": [
    "Matrix.shape"
   ]
  },
  {
   "cell_type": "code",
   "execution_count": 21,
   "metadata": {},
   "outputs": [
    {
     "data": {
      "text/plain": [
       "TensorShape([Dimension(3), Dimension(3), Dimension(3)])"
      ]
     },
     "execution_count": 21,
     "metadata": {},
     "output_type": "execute_result"
    }
   ],
   "source": [
    "Tensor.shape"
   ]
  },
  {
   "cell_type": "code",
   "execution_count": 23,
   "metadata": {},
   "outputs": [
    {
     "name": "stdout",
     "output_type": "stream",
     "text": [
      "using tf.add: \n",
      " [[ 2  4  6]\n",
      " [ 8 10 12]\n",
      " [14 16 18]] \n",
      "\n",
      "using normal +: \n",
      " [[ 2  4  6]\n",
      " [ 8 10 12]\n",
      " [14 16 18]] \n",
      "\n"
     ]
    }
   ],
   "source": [
    "graph3 = tf.Graph()\n",
    "with graph3.as_default():\n",
    "    M1 = tf.constant([ [1,2,3],[4,5,6],[7,8,9] ])\n",
    "    M2 = tf.constant([ [1,2,3],[4,5,6],[7,8,9] ])\n",
    "    \n",
    "    add1 = tf.add(M1,M2)\n",
    "    add2 = M1 + M2\n",
    "    \n",
    "with tf.Session(graph = graph3) as sess:\n",
    "    result1 = sess.run(add1)\n",
    "    print(\"using tf.add: \\n %s\"%result1)\n",
    "    result2 = sess.run(add2)\n",
    "    print(\"using normal +: \\n %s \\n\"%result2)\n"
   ]
  },
  {
   "cell_type": "code",
   "execution_count": 25,
   "metadata": {},
   "outputs": [
    {
     "name": "stdout",
     "output_type": "stream",
     "text": [
      "using tf.add: \n",
      " [[ 30  36  42]\n",
      " [ 66  81  96]\n",
      " [102 126 150]]\n"
     ]
    }
   ],
   "source": [
    "#try to use matmul\n",
    "graph4 = tf.Graph()\n",
    "with graph4.as_default():\n",
    "    M1 = tf.constant([ [1,2,3],[4,5,6],[7,8,9] ])\n",
    "    M2 = tf.constant([ [1,2,3],[4,5,6],[7,8,9] ])\n",
    "    \n",
    "    multiply = tf.matmul(M1,M2)\n",
    "\n",
    "with tf.Session(graph = graph4) as sess:\n",
    "    result1 = sess.run(multiply)\n",
    "    print(\"using tf.add: \\n %s\"%result1)"
   ]
  },
  {
   "cell_type": "code",
   "execution_count": 26,
   "metadata": {},
   "outputs": [
    {
     "name": "stdout",
     "output_type": "stream",
     "text": [
      "WARNING:tensorflow:From C:\\Users\\sd16053\\anaconda3\\envs\\ML\\lib\\site-packages\\tensorflow\\python\\framework\\op_def_library.py:263: colocate_with (from tensorflow.python.framework.ops) is deprecated and will be removed in a future version.\n",
      "Instructions for updating:\n",
      "Colocations handled automatically by placer.\n"
     ]
    }
   ],
   "source": [
    "#Variables\n",
    "v = tf.Variable(0)"
   ]
  },
  {
   "cell_type": "code",
   "execution_count": 27,
   "metadata": {},
   "outputs": [],
   "source": [
    "update = tf.assign(v,v+1)"
   ]
  },
  {
   "cell_type": "code",
   "execution_count": 28,
   "metadata": {},
   "outputs": [],
   "source": [
    "init_op = tf.global_variables_initializer()"
   ]
  },
  {
   "cell_type": "code",
   "execution_count": 29,
   "metadata": {},
   "outputs": [
    {
     "name": "stdout",
     "output_type": "stream",
     "text": [
      "0\n",
      "1\n",
      "2\n",
      "3\n"
     ]
    }
   ],
   "source": [
    "with tf.Session() as session:\n",
    "    session.run(init_op)\n",
    "    print(session.run(v))\n",
    "    for _ in range(3):\n",
    "        session.run(update)\n",
    "        print(session.run(v))"
   ]
  },
  {
   "cell_type": "code",
   "execution_count": 30,
   "metadata": {},
   "outputs": [],
   "source": [
    "a = tf.placeholder(tf.float32)"
   ]
  },
  {
   "cell_type": "code",
   "execution_count": 31,
   "metadata": {},
   "outputs": [],
   "source": [
    "b = a*2"
   ]
  },
  {
   "cell_type": "code",
   "execution_count": 34,
   "metadata": {},
   "outputs": [
    {
     "name": "stdout",
     "output_type": "stream",
     "text": [
      "7.0\n"
     ]
    }
   ],
   "source": [
    "#pass data to model using feed_dict\n",
    "\n",
    "with tf.Session() as sess:\n",
    "    result = sess.run(b, feed_dict={a:3.5})\n",
    "    print(result)"
   ]
  },
  {
   "cell_type": "code",
   "execution_count": 35,
   "metadata": {},
   "outputs": [
    {
     "name": "stdout",
     "output_type": "stream",
     "text": [
      "[[[ 2.  4.  6.]\n",
      "  [ 8. 10. 12.]\n",
      "  [14. 16. 18.]]\n",
      "\n",
      " [[ 4.  6.  8.]\n",
      "  [ 8. 10. 12.]\n",
      "  [12. 14. 16.]]]\n"
     ]
    }
   ],
   "source": [
    "dictionary = {a: [ [[1,2,3],[4,5,6],[7,8,9]] , [[2,3,4],[4,5,6],[6,7,8]] ]}\n",
    "with tf.Session() as sess:\n",
    "    result = sess.run(b, feed_dict= dictionary)\n",
    "    print(result)"
   ]
  },
  {
   "cell_type": "code",
   "execution_count": 36,
   "metadata": {},
   "outputs": [],
   "source": [
    "#Linear regression\n",
    "import matplotlib.pyplot as plt\n",
    "%matplotlib inline\n",
    "import pandas as pd\n",
    "import numpy as np\n",
    "import tensorflow as tf\n",
    "import matplotlib.patches as mpatches\n",
    "\n",
    "plt.rcParams['figure.figsize'] = (10,6)"
   ]
  },
  {
   "cell_type": "code",
   "execution_count": 37,
   "metadata": {},
   "outputs": [
    {
     "data": {
      "text/plain": [
       "array([0. , 0.1, 0.2, 0.3, 0.4])"
      ]
     },
     "execution_count": 37,
     "metadata": {},
     "output_type": "execute_result"
    }
   ],
   "source": [
    "X = np.arange(0.0,0.5,0.1)\n",
    "X"
   ]
  },
  {
   "cell_type": "code",
   "execution_count": 39,
   "metadata": {},
   "outputs": [
    {
     "data": {
      "image/png": "[encoded data removed]",
      "text/plain": [
       "<Figure size 432x288 with 1 Axes>"
      ]
     },
     "metadata": {
      "needs_background": "light"
     },
     "output_type": "display_data"
    }
   ],
   "source": [
    "a = 1\n",
    "b = 0\n",
    "\n",
    "Y = a*X + b\n",
    "plt.plot(X,Y)\n",
    "plt.ylabel('Dependent variable')\n",
    "plt.xlabel('Independent variable')\n",
    "plt.show()"
   ]
  },
  {
   "cell_type": "code",
   "execution_count": 40,
   "metadata": {},
   "outputs": [
    {
     "name": "stderr",
     "output_type": "stream",
     "text": [
      "'wget' は、内部コマンドまたは外部コマンド、\n",
      "操作可能なプログラムまたはバッチ ファイルとして認識されていません。\n"
     ]
    }
   ],
   "source": [
    "#LINEAR regression with tf\n",
    "!wget -O FuelConsumption.csv https://s3-api.us-geo.objectstorage.softlayer.net/cf-courses-data/CognitiveClass/ML0101ENv3/labs/FuelConsumptionCo2.csv"
   ]
  },
  {
   "cell_type": "code",
   "execution_count": 44,
   "metadata": {},
   "outputs": [
    {
     "data": {
      "text/html": [
       "<div>\n",
       "<style scoped>\n",
       "    .dataframe tbody tr th:only-of-type {\n",
       "        vertical-align: middle;\n",
       "    }\n",
       "\n",
       "    .dataframe tbody tr th {\n",
       "        vertical-align: top;\n",
       "    }\n",
       "\n",
       "    .dataframe thead th {\n",
       "        text-align: right;\n",
       "    }\n",
       "</style>\n",
       "<table border=\"1\" class=\"dataframe\">\n",
       "  <thead>\n",
       "    <tr style=\"text-align: right;\">\n",
       "      <th></th>\n",
       "      <th>MODELYEAR</th>\n",
       "      <th>MAKE</th>\n",
       "      <th>MODEL</th>\n",
       "      <th>VEHICLECLASS</th>\n",
       "      <th>ENGINESIZE</th>\n",
       "      <th>CYLINDERS</th>\n",
       "      <th>TRANSMISSION</th>\n",
       "      <th>FUELTYPE</th>\n",
       "      <th>FUELCONSUMPTION_CITY</th>\n",
       "      <th>FUELCONSUMPTION_HWY</th>\n",
       "      <th>FUELCONSUMPTION_COMB</th>\n",
       "      <th>FUELCONSUMPTION_COMB_MPG</th>\n",
       "      <th>CO2EMISSIONS</th>\n",
       "    </tr>\n",
       "  </thead>\n",
       "  <tbody>\n",
       "    <tr>\n",
       "      <th>0</th>\n",
       "      <td>2014</td>\n",
       "      <td>ACURA</td>\n",
       "      <td>ILX</td>\n",
       "      <td>COMPACT</td>\n",
       "      <td>2.0</td>\n",
       "      <td>4</td>\n",
       "      <td>AS5</td>\n",
       "      <td>Z</td>\n",
       "      <td>9.9</td>\n",
       "      <td>6.7</td>\n",
       "      <td>8.5</td>\n",
       "      <td>33</td>\n",
       "      <td>196</td>\n",
       "    </tr>\n",
       "    <tr>\n",
       "      <th>1</th>\n",
       "      <td>2014</td>\n",
       "      <td>ACURA</td>\n",
       "      <td>ILX</td>\n",
       "      <td>COMPACT</td>\n",
       "      <td>2.4</td>\n",
       "      <td>4</td>\n",
       "      <td>M6</td>\n",
       "      <td>Z</td>\n",
       "      <td>11.2</td>\n",
       "      <td>7.7</td>\n",
       "      <td>9.6</td>\n",
       "      <td>29</td>\n",
       "      <td>221</td>\n",
       "    </tr>\n",
       "    <tr>\n",
       "      <th>2</th>\n",
       "      <td>2014</td>\n",
       "      <td>ACURA</td>\n",
       "      <td>ILX HYBRID</td>\n",
       "      <td>COMPACT</td>\n",
       "      <td>1.5</td>\n",
       "      <td>4</td>\n",
       "      <td>AV7</td>\n",
       "      <td>Z</td>\n",
       "      <td>6.0</td>\n",
       "      <td>5.8</td>\n",
       "      <td>5.9</td>\n",
       "      <td>48</td>\n",
       "      <td>136</td>\n",
       "    </tr>\n",
       "    <tr>\n",
       "      <th>3</th>\n",
       "      <td>2014</td>\n",
       "      <td>ACURA</td>\n",
       "      <td>MDX 4WD</td>\n",
       "      <td>SUV - SMALL</td>\n",
       "      <td>3.5</td>\n",
       "      <td>6</td>\n",
       "      <td>AS6</td>\n",
       "      <td>Z</td>\n",
       "      <td>12.7</td>\n",
       "      <td>9.1</td>\n",
       "      <td>11.1</td>\n",
       "      <td>25</td>\n",
       "      <td>255</td>\n",
       "    </tr>\n",
       "    <tr>\n",
       "      <th>4</th>\n",
       "      <td>2014</td>\n",
       "      <td>ACURA</td>\n",
       "      <td>RDX AWD</td>\n",
       "      <td>SUV - SMALL</td>\n",
       "      <td>3.5</td>\n",
       "      <td>6</td>\n",
       "      <td>AS6</td>\n",
       "      <td>Z</td>\n",
       "      <td>12.1</td>\n",
       "      <td>8.7</td>\n",
       "      <td>10.6</td>\n",
       "      <td>27</td>\n",
       "      <td>244</td>\n",
       "    </tr>\n",
       "  </tbody>\n",
       "</table>\n",
       "</div>"
      ],
      "text/plain": [
       "   MODELYEAR   MAKE       MODEL VEHICLECLASS  ENGINESIZE  CYLINDERS  \\\n",
       "0       2014  ACURA         ILX      COMPACT         2.0          4   \n",
       "1       2014  ACURA         ILX      COMPACT         2.4          4   \n",
       "2       2014  ACURA  ILX HYBRID      COMPACT         1.5          4   \n",
       "3       2014  ACURA     MDX 4WD  SUV - SMALL         3.5          6   \n",
       "4       2014  ACURA     RDX AWD  SUV - SMALL         3.5          6   \n",
       "\n",
       "  TRANSMISSION FUELTYPE  FUELCONSUMPTION_CITY  FUELCONSUMPTION_HWY  \\\n",
       "0          AS5        Z                   9.9                  6.7   \n",
       "1           M6        Z                  11.2                  7.7   \n",
       "2          AV7        Z                   6.0                  5.8   \n",
       "3          AS6        Z                  12.7                  9.1   \n",
       "4          AS6        Z                  12.1                  8.7   \n",
       "\n",
       "   FUELCONSUMPTION_COMB  FUELCONSUMPTION_COMB_MPG  CO2EMISSIONS  \n",
       "0                   8.5                        33           196  \n",
       "1                   9.6                        29           221  \n",
       "2                   5.9                        48           136  \n",
       "3                  11.1                        25           255  \n",
       "4                  10.6                        27           244  "
      ]
     },
     "execution_count": 44,
     "metadata": {},
     "output_type": "execute_result"
    }
   ],
   "source": [
    "df = pd.read_csv(\"C:/Users/sd16053/Desktop/DeepLearning_MIT/FuelConsumptionCo2.csv\")\n",
    "df.head()"
   ]
  },
  {
   "cell_type": "code",
   "execution_count": 45,
   "metadata": {},
   "outputs": [],
   "source": [
    "train_x = np.asanyarray(df[['ENGINESIZE']])\n",
    "train_y = np.asanyarray(df[['CO2EMISSIONS']])"
   ]
  },
  {
   "cell_type": "code",
   "execution_count": 48,
   "metadata": {},
   "outputs": [],
   "source": [
    "#initialize a and b by m own random number\n",
    "a = tf.Variable(20.0)\n",
    "b = tf.Variable(30.2)\n",
    "y = a * train_x +b"
   ]
  },
  {
   "cell_type": "code",
   "execution_count": 49,
   "metadata": {},
   "outputs": [],
   "source": [
    "loss = tf.reduce_mean(tf.square(y - train_y))"
   ]
  },
  {
   "cell_type": "code",
   "execution_count": 50,
   "metadata": {},
   "outputs": [],
   "source": [
    "optimizer = tf.train.GradientDescentOptimizer(0.05)"
   ]
  },
  {
   "cell_type": "code",
   "execution_count": 51,
   "metadata": {},
   "outputs": [],
   "source": [
    "train = optimizer.minimize(loss)"
   ]
  },
  {
   "cell_type": "code",
   "execution_count": 52,
   "metadata": {},
   "outputs": [],
   "source": [
    "#initialize the variables before executing graph\n",
    "init = tf.global_variables_initializer()\n",
    "sess = tf.Session()\n",
    "sess.run(init)"
   ]
  },
  {
   "cell_type": "code",
   "execution_count": 56,
   "metadata": {},
   "outputs": [
    {
     "name": "stdout",
     "output_type": "stream",
     "text": [
      "0 1006.25073 44.14427 105.71839\n",
      "5 998.23865 43.79678 107.074394\n",
      "10 991.2974 43.473343 108.33652\n",
      "15 985.2844 43.172302 109.51126\n",
      "20 980.0748 42.892105 110.604675\n",
      "25 975.562 42.6313 111.62238\n",
      "30 971.6522 42.388557 112.56963\n",
      "35 968.2652 42.16262 113.4513\n",
      "40 965.3308 41.952324 114.27193\n",
      "45 962.78894 41.75659 115.035736\n",
      "50 960.58655 41.574406 115.74666\n",
      "55 958.67834 41.40484 116.40836\n",
      "60 957.02606 41.24701 117.024254\n",
      "65 955.59393 41.100105 117.5975\n",
      "70 954.3538 40.963375 118.13106\n",
      "75 953.2789 40.83611 118.627686\n",
      "80 952.3477 40.717655 119.08993\n",
      "85 951.54144 40.607407 119.52016\n",
      "90 950.8427 40.504784 119.92061\n",
      "95 950.2375 40.40927 120.29333\n"
     ]
    }
   ],
   "source": [
    "loss_value = []\n",
    "train_data = []\n",
    "for step in range(100):\n",
    "    _, loss_val, a_val, b_val = sess.run([train, loss, a, b])\n",
    "    loss_value.append(loss_val)\n",
    "    if step % 5 == 0:\n",
    "        print(step, loss_val, a_val, b_val)\n",
    "        train_data.append([a_val, b_val])"
   ]
  },
  {
   "cell_type": "code",
   "execution_count": 57,
   "metadata": {},
   "outputs": [
    {
     "data": {
      "text/plain": [
       "[<matplotlib.lines.Line2D at 0x1c0488df518>]"
      ]
     },
     "execution_count": 57,
     "metadata": {},
     "output_type": "execute_result"
    },
    {
     "data": {
      "image/png": "[encoded data removed]",
      "text/plain": [
       "<Figure size 432x288 with 1 Axes>"
      ]
     },
     "metadata": {
      "needs_background": "light"
     },
     "output_type": "display_data"
    }
   ],
   "source": [
    "plt.plot(loss_value, 'ro')"
   ]
  },
  {
   "cell_type": "code",
   "execution_count": 59,
   "metadata": {},
   "outputs": [
    {
     "data": {
      "image/png": "[encoded data removed]",
      "text/plain": [
       "<Figure size 432x288 with 1 Axes>"
      ]
     },
     "metadata": {
      "needs_background": "light"
     },
     "output_type": "display_data"
    }
   ],
   "source": [
    "cr, cg, cb = (1.0, 1.0, 0.0)\n",
    "for f in train_data:\n",
    "    cb += 1.0/len(train_data)\n",
    "    cg -= 1.0/len(train_data)\n",
    "    if cb > 1:\n",
    "        cb = 1.0\n",
    "    if cg < 1:\n",
    "        cg = 0.0\n",
    "    [a, b] = f\n",
    "    f_y = np.vectorize(lambda x: a*x + b)(train_x)\n",
    "    line = plt.plot(train_x, f_y)\n",
    "    plt.setp(line, color = (cr, cg, cb))\n",
    "\n",
    "plt.plot(train_x, train_y,'ro')\n",
    "\n",
    "green_line = mpatches.Patch(color = 'red', label = 'Data Points')\n",
    "plt.legend(handles = [green_line])\n",
    "plt.show()"
   ]
  },
  {
   "cell_type": "code",
   "execution_count": 61,
   "metadata": {},
   "outputs": [],
   "source": [
    "#Logistic regression\n",
    "import time\n",
    "from sklearn.datasets import load_iris\n",
    "from sklearn.model_selection import train_test_split\n",
    "import matplotlib.pyplot as plt"
   ]
  },
  {
   "cell_type": "code",
   "execution_count": 62,
   "metadata": {},
   "outputs": [],
   "source": [
    "iris = load_iris()\n",
    "iris_X, iris_y = iris.data[:-1,:], iris.target[:-1]\n",
    "iris_y = pd.get_dummies(iris_y).values\n",
    "trainX, testX, trainY, testY = train_test_split(iris_X, iris_y, test_size = 0.33, random_state=42)"
   ]
  },
  {
   "cell_type": "code",
   "execution_count": 63,
   "metadata": {},
   "outputs": [
    {
     "data": {
      "text/plain": [
       "array([[5.7, 3. , 4.2, 1.2],\n",
       "       [6.5, 3. , 5.8, 2.2],\n",
       "       [5.6, 3. , 4.5, 1.5],\n",
       "       [5.1, 3.5, 1.4, 0.2],\n",
       "       [6.9, 3.1, 5.1, 2.3],\n",
       "       [5.8, 2.7, 4.1, 1. ],\n",
       "       [5.2, 3.4, 1.4, 0.2],\n",
       "       [5. , 3.5, 1.3, 0.3],\n",
       "       [5.1, 3.8, 1.9, 0.4],\n",
       "       [5. , 2. , 3.5, 1. ],\n",
       "       [7.7, 2.8, 6.7, 2. ],\n",
       "       [4.8, 3.4, 1.9, 0.2],\n",
       "       [5. , 3. , 1.6, 0.2],\n",
       "       [5.1, 3.3, 1.7, 0.5],\n",
       "       [5. , 2.3, 3.3, 1. ],\n",
       "       [5.1, 3.4, 1.5, 0.2],\n",
       "       [5.6, 2.7, 4.2, 1.3],\n",
       "       [6. , 3. , 4.8, 1.8],\n",
       "       [4.6, 3.2, 1.4, 0.2],\n",
       "       [5.7, 2.9, 4.2, 1.3],\n",
       "       [6.8, 3. , 5.5, 2.1],\n",
       "       [5.5, 4.2, 1.4, 0.2],\n",
       "       [5.1, 2.5, 3. , 1.1],\n",
       "       [6.7, 3. , 5.2, 2.3],\n",
       "       [6. , 2.2, 4. , 1. ],\n",
       "       [5.4, 3. , 4.5, 1.5],\n",
       "       [6. , 2.2, 5. , 1.5],\n",
       "       [5.5, 2.3, 4. , 1.3],\n",
       "       [5.4, 3.9, 1.7, 0.4],\n",
       "       [6.5, 3. , 5.2, 2. ],\n",
       "       [6.4, 3.1, 5.5, 1.8],\n",
       "       [5. , 3.3, 1.4, 0.2],\n",
       "       [5. , 3.2, 1.2, 0.2],\n",
       "       [5.5, 2.4, 3.8, 1.1],\n",
       "       [6.7, 3. , 5. , 1.7],\n",
       "       [4.9, 3.1, 1.5, 0.2],\n",
       "       [5.7, 2.5, 5. , 2. ],\n",
       "       [5. , 3.4, 1.5, 0.2],\n",
       "       [5. , 3.5, 1.6, 0.6],\n",
       "       [5.9, 3.2, 4.8, 1.8],\n",
       "       [6.2, 2.9, 4.3, 1.3],\n",
       "       [6. , 2.7, 5.1, 1.6],\n",
       "       [6.3, 2.8, 5.1, 1.5],\n",
       "       [6.1, 2.6, 5.6, 1.4],\n",
       "       [5.5, 2.5, 4. , 1.3],\n",
       "       [4.4, 2.9, 1.4, 0.2],\n",
       "       [4.3, 3. , 1.1, 0.1],\n",
       "       [7.7, 2.6, 6.9, 2.3],\n",
       "       [6.2, 2.8, 4.8, 1.8],\n",
       "       [4.6, 3.1, 1.5, 0.2],\n",
       "       [5.1, 3.5, 1.4, 0.3],\n",
       "       [4.4, 3. , 1.3, 0.2],\n",
       "       [6.3, 2.5, 4.9, 1.5],\n",
       "       [7.7, 3. , 6.1, 2.3],\n",
       "       [4.6, 3.4, 1.4, 0.3],\n",
       "       [6.4, 2.7, 5.3, 1.9],\n",
       "       [6.3, 3.3, 6. , 2.5],\n",
       "       [4.7, 3.2, 1.3, 0.2],\n",
       "       [6.1, 2.9, 4.7, 1.4],\n",
       "       [6.5, 2.8, 4.6, 1.5],\n",
       "       [7.2, 3.2, 6. , 1.8],\n",
       "       [7. , 3.2, 4.7, 1.4],\n",
       "       [5.8, 2.8, 5.1, 2.4],\n",
       "       [5.1, 3.8, 1.6, 0.2],\n",
       "       [6.4, 3.2, 5.3, 2.3],\n",
       "       [5.9, 3. , 4.2, 1.5],\n",
       "       [6.3, 2.5, 5. , 1.9],\n",
       "       [5.7, 2.6, 3.5, 1. ],\n",
       "       [5.2, 2.7, 3.9, 1.4],\n",
       "       [6.1, 3. , 4.6, 1.4],\n",
       "       [4.5, 2.3, 1.3, 0.3],\n",
       "       [6.6, 2.9, 4.6, 1.3],\n",
       "       [5.5, 2.6, 4.4, 1.2],\n",
       "       [5.3, 3.7, 1.5, 0.2],\n",
       "       [5.6, 3. , 4.1, 1.3],\n",
       "       [7.3, 2.9, 6.3, 1.8],\n",
       "       [6.7, 3.3, 5.7, 2.1],\n",
       "       [5.1, 3.7, 1.5, 0.4],\n",
       "       [4.9, 2.4, 3.3, 1. ],\n",
       "       [6.8, 3.2, 5.9, 2.3],\n",
       "       [7.2, 3. , 5.8, 1.6],\n",
       "       [4.9, 3.6, 1.4, 0.1],\n",
       "       [6.9, 3.1, 5.4, 2.1],\n",
       "       [4.9, 3. , 1.4, 0.2],\n",
       "       [6.9, 3.1, 4.9, 1.5],\n",
       "       [7.4, 2.8, 6.1, 1.9],\n",
       "       [6.3, 2.9, 5.6, 1.8],\n",
       "       [5.7, 2.8, 4.1, 1.3],\n",
       "       [6.5, 3. , 5.5, 1.8],\n",
       "       [6.3, 2.3, 4.4, 1.3],\n",
       "       [6.4, 2.9, 4.3, 1.3],\n",
       "       [5.6, 2.8, 4.9, 2. ],\n",
       "       [6.2, 3.4, 5.4, 2.3],\n",
       "       [5.4, 3.4, 1.7, 0.2],\n",
       "       [6.1, 2.8, 4. , 1.3],\n",
       "       [4.9, 2.5, 4.5, 1.7],\n",
       "       [5.8, 4. , 1.2, 0.2],\n",
       "       [5.8, 2.6, 4. , 1.2],\n",
       "       [7.1, 3. , 5.9, 2.1]])"
      ]
     },
     "execution_count": 63,
     "metadata": {},
     "output_type": "execute_result"
    }
   ],
   "source": [
    "trainX\n",
    "# ([petal length,petal width,sepal length,sepal width])"
   ]
  },
  {
   "cell_type": "code",
   "execution_count": 65,
   "metadata": {},
   "outputs": [
    {
     "data": {
      "text/plain": [
       "array([[0, 1, 0],\n",
       "       [0, 0, 1],\n",
       "       [0, 1, 0],\n",
       "       [1, 0, 0],\n",
       "       [0, 0, 1],\n",
       "       [0, 1, 0],\n",
       "       [1, 0, 0],\n",
       "       [1, 0, 0],\n",
       "       [1, 0, 0],\n",
       "       [0, 1, 0],\n",
       "       [0, 0, 1],\n",
       "       [1, 0, 0],\n",
       "       [1, 0, 0],\n",
       "       [1, 0, 0],\n",
       "       [0, 1, 0],\n",
       "       [1, 0, 0],\n",
       "       [0, 1, 0],\n",
       "       [0, 0, 1],\n",
       "       [1, 0, 0],\n",
       "       [0, 1, 0],\n",
       "       [0, 0, 1],\n",
       "       [1, 0, 0],\n",
       "       [0, 1, 0],\n",
       "       [0, 0, 1],\n",
       "       [0, 1, 0],\n",
       "       [0, 1, 0],\n",
       "       [0, 0, 1],\n",
       "       [0, 1, 0],\n",
       "       [1, 0, 0],\n",
       "       [0, 0, 1],\n",
       "       [0, 0, 1],\n",
       "       [1, 0, 0],\n",
       "       [1, 0, 0],\n",
       "       [0, 1, 0],\n",
       "       [0, 1, 0],\n",
       "       [1, 0, 0],\n",
       "       [0, 0, 1],\n",
       "       [1, 0, 0],\n",
       "       [1, 0, 0],\n",
       "       [0, 1, 0],\n",
       "       [0, 1, 0],\n",
       "       [0, 1, 0],\n",
       "       [0, 0, 1],\n",
       "       [0, 0, 1],\n",
       "       [0, 1, 0],\n",
       "       [1, 0, 0],\n",
       "       [1, 0, 0],\n",
       "       [0, 0, 1],\n",
       "       [0, 0, 1],\n",
       "       [1, 0, 0],\n",
       "       [1, 0, 0],\n",
       "       [1, 0, 0],\n",
       "       [0, 1, 0],\n",
       "       [0, 0, 1],\n",
       "       [1, 0, 0],\n",
       "       [0, 0, 1],\n",
       "       [0, 0, 1],\n",
       "       [1, 0, 0],\n",
       "       [0, 1, 0],\n",
       "       [0, 1, 0],\n",
       "       [0, 0, 1],\n",
       "       [0, 1, 0],\n",
       "       [0, 0, 1],\n",
       "       [1, 0, 0],\n",
       "       [0, 0, 1],\n",
       "       [0, 1, 0],\n",
       "       [0, 0, 1],\n",
       "       [0, 1, 0],\n",
       "       [0, 1, 0],\n",
       "       [0, 1, 0],\n",
       "       [1, 0, 0],\n",
       "       [0, 1, 0],\n",
       "       [0, 1, 0],\n",
       "       [1, 0, 0],\n",
       "       [0, 1, 0],\n",
       "       [0, 0, 1],\n",
       "       [0, 0, 1],\n",
       "       [1, 0, 0],\n",
       "       [0, 1, 0],\n",
       "       [0, 0, 1],\n",
       "       [0, 0, 1],\n",
       "       [1, 0, 0],\n",
       "       [0, 0, 1],\n",
       "       [1, 0, 0],\n",
       "       [0, 1, 0],\n",
       "       [0, 0, 1],\n",
       "       [0, 0, 1],\n",
       "       [0, 1, 0],\n",
       "       [0, 0, 1],\n",
       "       [0, 1, 0],\n",
       "       [0, 1, 0],\n",
       "       [0, 0, 1],\n",
       "       [0, 0, 1],\n",
       "       [1, 0, 0],\n",
       "       [0, 1, 0],\n",
       "       [0, 0, 1],\n",
       "       [1, 0, 0],\n",
       "       [0, 1, 0],\n",
       "       [0, 0, 1]], dtype=uint8)"
      ]
     },
     "execution_count": 65,
     "metadata": {},
     "output_type": "execute_result"
    }
   ],
   "source": [
    "trainY\n",
    "#([1,0,0]=Iris serota, [0,1,0] = Iris virginica, [0,0,1] = Iris versicolor)"
   ]
  },
  {
   "cell_type": "code",
   "execution_count": 67,
   "metadata": {},
   "outputs": [],
   "source": [
    "numFeatures = trainX.shape[1]\n",
    "numLabels = trainY.shape[1]\n",
    "\n",
    "X = tf.placeholder(tf.float32, [None, numFeatures])\n",
    "yGoal = tf.placeholder(tf.float32,[None, numLabels])"
   ]
  },
  {
   "cell_type": "code",
   "execution_count": 69,
   "metadata": {},
   "outputs": [],
   "source": [
    "#Set model weight and bias\n",
    "W = tf.Variable(tf.zeros([4,3])) # 4 dimensional, 3 classes\n",
    "b = tf.Variable(tf.zeros([3])) # 3 dimensional out put\n",
    "\n",
    "weights = tf.Variable(tf.random_normal([numFeatures,numLabels],\n",
    "                                      mean = 0,\n",
    "                                      stddev = 0.01,\n",
    "                                      name = \"weights\"))\n",
    "bias = tf.Variable(tf.random_normal([numLabels],\n",
    "                                   mean = 0,\n",
    "                                   stddev = 0.01,\n",
    "                                   name = \"bias\"))"
   ]
  },
  {
   "cell_type": "code",
   "execution_count": 71,
   "metadata": {},
   "outputs": [],
   "source": [
    "apply_weights_OP = tf.matmul(X, weights, name = \"apply_weights\")\n",
    "add_bias_OP = tf.add(apply_weights_OP, b, name = \"add_bias\")\n",
    "activation_OP = tf.nn.sigmoid(add_bias_OP, name = \"activation\")"
   ]
  },
  {
   "cell_type": "code",
   "execution_count": 72,
   "metadata": {},
   "outputs": [],
   "source": [
    "## TRAINING\n",
    "\n",
    "# number of epochs\n",
    "numEpochs = 700\n",
    "#define learning rate\n",
    "learningRate = tf.train.exponential_decay(learning_rate = 0.0008, \n",
    "                                          global_step = 1,\n",
    "                                          decay_steps = trainX.shape[0],\n",
    "                                          decay_rate = 0.95,\n",
    "                                          staircase= True)"
   ]
  },
  {
   "cell_type": "code",
   "execution_count": 73,
   "metadata": {},
   "outputs": [],
   "source": [
    "#define cost function\n",
    "cost_OP = tf.nn.l2_loss(activation_OP-yGoal, name = \"square_errr_cost\")\n",
    "\n",
    "#Define gradient descent\n",
    "training_OP = tf.train.GradientDescentOptimizer(learningRate).minimize(cost_OP)"
   ]
  },
  {
   "cell_type": "code",
   "execution_count": 74,
   "metadata": {},
   "outputs": [],
   "source": [
    "#create a tensorflow session\n",
    "sess = tf.Session()\n",
    "\n",
    "#initialize our weights and biases variables.\n",
    "init_OP = tf.global_variables_initializer()\n",
    "\n",
    "#initialize all tensorflow variables\n",
    "sess.run(init_OP)"
   ]
  },
  {
   "cell_type": "code",
   "execution_count": 77,
   "metadata": {},
   "outputs": [],
   "source": [
    "correct_predictions_OP = tf.equal(tf.argmax(activation_OP,1), tf.argmax(yGoal,1))\n",
    "\n",
    "accuracy_OP = tf.reduce_mean(tf.cast(correct_predictions_OP, \"float\"))\n",
    "\n",
    "activation_summary_OP = tf.summary.histogram(\"output\", activation_OP)\n",
    "accuracy_summary_OP = tf.summary.scalar(\"accuracy\", accuracy_OP)\n",
    "cost_summary_OP = tf.summary.scalar(\"cost\", cost_OP)\n",
    "#summary operation to check how (W,b) are updating for each iteration\n",
    "weightSummary = tf.summary.histogram(\"weights\", weights.eval(session = sess))\n",
    "biasSummary = tf.summary.histogram(\"biases\", bias.eval(session = sess))\n",
    "\n",
    "# merge all summaries\n",
    "merged = tf.summary.merge([activation_summary_OP, accuracy_summary_OP, cost_summary_OP, weightSummary, biasSummary])\n",
    "\n",
    "# summary writer\n",
    "writer = tf.summary.FileWriter(\"summary_logs\", sess.graph)"
   ]
  },
  {
   "cell_type": "code",
   "execution_count": 89,
   "metadata": {},
   "outputs": [
    {
     "name": "stdout",
     "output_type": "stream",
     "text": [
      "step 0, training accuracy 0.949495, cost 12.5543, change in cost 12.5543\n",
      "step 10, training accuracy 0.949495, cost 12.5458, change in cost 0.00853348\n",
      "step 20, training accuracy 0.949495, cost 12.5373, change in cost 0.00847626\n",
      "step 30, training accuracy 0.949495, cost 12.5289, change in cost 0.00841999\n",
      "step 40, training accuracy 0.949495, cost 12.5205, change in cost 0.00836658\n",
      "step 50, training accuracy 0.949495, cost 12.5122, change in cost 0.00831127\n",
      "step 60, training accuracy 0.949495, cost 12.504, change in cost 0.00825787\n",
      "step 70, training accuracy 0.949495, cost 12.4958, change in cost 0.00820446\n",
      "step 80, training accuracy 0.949495, cost 12.4876, change in cost 0.00814915\n",
      "step 90, training accuracy 0.949495, cost 12.4795, change in cost 0.00809956\n",
      "step 100, training accuracy 0.949495, cost 12.4715, change in cost 0.00804996\n",
      "step 110, training accuracy 0.949495, cost 12.4635, change in cost 0.00799561\n",
      "step 120, training accuracy 0.949495, cost 12.4555, change in cost 0.00794506\n",
      "step 130, training accuracy 0.949495, cost 12.4476, change in cost 0.00789738\n",
      "step 140, training accuracy 0.949495, cost 12.4398, change in cost 0.00784588\n",
      "step 150, training accuracy 0.949495, cost 12.432, change in cost 0.00779533\n",
      "step 160, training accuracy 0.949495, cost 12.4242, change in cost 0.0077486\n",
      "step 170, training accuracy 0.949495, cost 12.4165, change in cost 0.00769997\n",
      "step 180, training accuracy 0.949495, cost 12.4089, change in cost 0.00765133\n",
      "step 190, training accuracy 0.949495, cost 12.4013, change in cost 0.00760651\n",
      "step 200, training accuracy 0.949495, cost 12.3937, change in cost 0.00755692\n",
      "step 210, training accuracy 0.949495, cost 12.3862, change in cost 0.00751114\n",
      "step 220, training accuracy 0.959596, cost 12.3787, change in cost 0.00746536\n",
      "step 230, training accuracy 0.959596, cost 12.3713, change in cost 0.00741863\n",
      "step 240, training accuracy 0.959596, cost 12.364, change in cost 0.00737572\n",
      "step 250, training accuracy 0.959596, cost 12.3566, change in cost 0.0073328\n",
      "step 260, training accuracy 0.959596, cost 12.3493, change in cost 0.00728416\n",
      "step 270, training accuracy 0.959596, cost 12.3421, change in cost 0.0072403\n",
      "step 280, training accuracy 0.959596, cost 12.3349, change in cost 0.00719929\n",
      "step 290, training accuracy 0.959596, cost 12.3277, change in cost 0.00715446\n",
      "step 300, training accuracy 0.959596, cost 12.3206, change in cost 0.00711441\n",
      "step 310, training accuracy 0.959596, cost 12.3136, change in cost 0.0070715\n",
      "step 320, training accuracy 0.959596, cost 12.3065, change in cost 0.00702763\n",
      "step 330, training accuracy 0.959596, cost 12.2995, change in cost 0.00698853\n",
      "step 340, training accuracy 0.959596, cost 12.2926, change in cost 0.00694752\n",
      "step 350, training accuracy 0.959596, cost 12.2857, change in cost 0.0069046\n",
      "step 360, training accuracy 0.959596, cost 12.2788, change in cost 0.00686455\n",
      "step 370, training accuracy 0.959596, cost 12.272, change in cost 0.0068264\n",
      "step 380, training accuracy 0.959596, cost 12.2652, change in cost 0.00678539\n",
      "step 390, training accuracy 0.959596, cost 12.2585, change in cost 0.0067482\n",
      "step 400, training accuracy 0.959596, cost 12.2518, change in cost 0.00670624\n",
      "step 410, training accuracy 0.959596, cost 12.2451, change in cost 0.00666809\n",
      "step 420, training accuracy 0.959596, cost 12.2385, change in cost 0.00663376\n",
      "step 430, training accuracy 0.959596, cost 12.2319, change in cost 0.00659275\n",
      "step 440, training accuracy 0.959596, cost 12.2253, change in cost 0.00655365\n",
      "step 450, training accuracy 0.959596, cost 12.2188, change in cost 0.00651932\n",
      "step 460, training accuracy 0.959596, cost 12.2123, change in cost 0.00648308\n",
      "step 470, training accuracy 0.959596, cost 12.2059, change in cost 0.00644398\n",
      "step 480, training accuracy 0.959596, cost 12.1995, change in cost 0.00640965\n",
      "step 490, training accuracy 0.959596, cost 12.1931, change in cost 0.0063715\n",
      "step 500, training accuracy 0.959596, cost 12.1867, change in cost 0.00633717\n",
      "step 510, training accuracy 0.959596, cost 12.1804, change in cost 0.00630283\n",
      "step 520, training accuracy 0.959596, cost 12.1742, change in cost 0.00626755\n",
      "step 530, training accuracy 0.959596, cost 12.1679, change in cost 0.00623417\n",
      "step 540, training accuracy 0.959596, cost 12.1617, change in cost 0.00619793\n",
      "step 550, training accuracy 0.959596, cost 12.1556, change in cost 0.00616169\n",
      "step 560, training accuracy 0.959596, cost 12.1494, change in cost 0.00613213\n",
      "step 570, training accuracy 0.959596, cost 12.1433, change in cost 0.00609589\n",
      "step 580, training accuracy 0.959596, cost 12.1373, change in cost 0.00606632\n",
      "step 590, training accuracy 0.959596, cost 12.1313, change in cost 0.00602913\n",
      "step 600, training accuracy 0.959596, cost 12.1253, change in cost 0.00599861\n",
      "step 610, training accuracy 0.959596, cost 12.1193, change in cost 0.00596619\n",
      "step 620, training accuracy 0.959596, cost 12.1134, change in cost 0.00593281\n",
      "step 630, training accuracy 0.959596, cost 12.1075, change in cost 0.00590134\n",
      "step 640, training accuracy 0.959596, cost 12.1016, change in cost 0.00587273\n",
      "step 650, training accuracy 0.959596, cost 12.0957, change in cost 0.00583935\n",
      "step 660, training accuracy 0.959596, cost 12.0899, change in cost 0.00580883\n",
      "step 670, training accuracy 0.959596, cost 12.0842, change in cost 0.00577927\n",
      "step 680, training accuracy 0.959596, cost 12.0784, change in cost 0.00574398\n",
      "step 690, training accuracy 0.959596, cost 12.0727, change in cost 0.00571918\n",
      "final accuracy on test set: 1.0\n"
     ]
    }
   ],
   "source": [
    "##Run training loop\n",
    "#Initialize reporting variables\n",
    "cost = 0\n",
    "diff = 1\n",
    "epoch_values = []\n",
    "accuracy_values = []\n",
    "cost_values = []\n",
    "\n",
    "#training epochs\n",
    "for i in range(numEpochs):\n",
    "    if i > 1 and diff < .0001:\n",
    "        print(\"change in cost %g; convergence.\" %diff)\n",
    "        break\n",
    "    else :\n",
    "        step = sess.run(training_OP, feed_dict= { X: trainX, yGoal : trainY})\n",
    "        if i % 10 == 0:\n",
    "            epoch_values.append(i)\n",
    "            train_accuracy, newCost = sess.run([accuracy_OP, cost_OP], feed_dict={X: trainX, yGoal: trainY})\n",
    "            \n",
    "            accuracy_values.append(train_accuracy)\n",
    "            cost_values.append(newCost)\n",
    "            \n",
    "            diff = abs(newCost - cost)\n",
    "            cost = newCost\n",
    "            \n",
    "            print(\"step %d, training accuracy %g, cost %g, change in cost %g\"%(i, train_accuracy, newCost, diff))\n",
    "            \n",
    "print(\"final accuracy on test set: %s\" %str(sess.run(accuracy_OP,\n",
    "                                                    feed_dict = {X: testX,\n",
    "                                                                yGoal: testY})))"
   ]
  },
  {
   "cell_type": "code",
   "execution_count": 93,
   "metadata": {},
   "outputs": [
    {
     "data": {
      "image/png": "[encoded data removed]",
      "text/plain": [
       "<Figure size 432x288 with 1 Axes>"
      ]
     },
     "metadata": {
      "needs_background": "light"
     },
     "output_type": "display_data"
    }
   ],
   "source": [
    "%matplotlib inline\n",
    "import numpy as np\n",
    "import matplotlib.pyplot as plt\n",
    "\n",
    "plt.plot([np.mean(cost_values[1:i]) for i in range(len(cost_values))])\n",
    "plt.show()"
   ]
  },
  {
   "cell_type": "code",
   "execution_count": 91,
   "metadata": {},
   "outputs": [
    {
     "data": {
      "text/plain": [
       "[12.554333,\n",
       " 12.545799,\n",
       " 12.537323,\n",
       " 12.528903,\n",
       " 12.520536,\n",
       " 12.512225,\n",
       " 12.503967,\n",
       " 12.495763,\n",
       " 12.487614,\n",
       " 12.479514,\n",
       " 12.471464,\n",
       " 12.463469,\n",
       " 12.4555235,\n",
       " 12.447626,\n",
       " 12.43978,\n",
       " 12.431985,\n",
       " 12.424236,\n",
       " 12.416536,\n",
       " 12.408885,\n",
       " 12.4012785,\n",
       " 12.393722,\n",
       " 12.38621,\n",
       " 12.378745,\n",
       " 12.371326,\n",
       " 12.363951,\n",
       " 12.356618,\n",
       " 12.349334,\n",
       " 12.342093,\n",
       " 12.334894,\n",
       " 12.32774,\n",
       " 12.320625,\n",
       " 12.313554,\n",
       " 12.306526,\n",
       " 12.299538,\n",
       " 12.29259,\n",
       " 12.285686,\n",
       " 12.278821,\n",
       " 12.271995,\n",
       " 12.265209,\n",
       " 12.258461,\n",
       " 12.251755,\n",
       " 12.245087,\n",
       " 12.238453,\n",
       " 12.23186,\n",
       " 12.2253065,\n",
       " 12.218787,\n",
       " 12.212304,\n",
       " 12.20586,\n",
       " 12.1994505,\n",
       " 12.193079,\n",
       " 12.186742,\n",
       " 12.180439,\n",
       " 12.174171,\n",
       " 12.167937,\n",
       " 12.161739,\n",
       " 12.155578,\n",
       " 12.149446,\n",
       " 12.14335,\n",
       " 12.137283,\n",
       " 12.131254,\n",
       " 12.125256,\n",
       " 12.119289,\n",
       " 12.113357,\n",
       " 12.107455,\n",
       " 12.101583,\n",
       " 12.095743,\n",
       " 12.089934,\n",
       " 12.084155,\n",
       " 12.078411,\n",
       " 12.072692]"
      ]
     },
     "execution_count": 91,
     "metadata": {},
     "output_type": "execute_result"
    }
   ],
   "source": [
    "cost_values"
   ]
  },
  {
   "cell_type": "code",
   "execution_count": 92,
   "metadata": {},
   "outputs": [
    {
     "data": {
      "text/plain": [
       "70"
      ]
     },
     "execution_count": 92,
     "metadata": {},
     "output_type": "execute_result"
    }
   ],
   "source": [
    "len(cost_values)"
   ]
  },
  {
   "cell_type": "code",
   "execution_count": null,
   "metadata": {},
   "outputs": [],
   "source": []
  }
 ],
 "metadata": {
  "kernelspec": {
   "display_name": "Python 3",
   "language": "python",
   "name": "python3"
  },
  "language_info": {
   "codemirror_mode": {
    "name": "ipython",
    "version": 3
   },
   "file_extension": ".py",
   "mimetype": "text/x-python",
   "name": "python",
   "nbconvert_exporter": "python",
   "pygments_lexer": "ipython3",
   "version": "3.7.3"
  }
 },
 "nbformat": 4,
 "nbformat_minor": 2
}
